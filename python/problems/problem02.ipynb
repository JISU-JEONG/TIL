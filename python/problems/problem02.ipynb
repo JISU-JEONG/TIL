{
 "cells": [
  {
   "cell_type": "markdown",
   "metadata": {},
   "source": [
    "# 모든코인 상승장? 하락장?\n",
    "> 최고가와 최저가의 차이를 변동폭으로 정의할 때 (시가 + 변동폭)이 최고가 보다 높을 경우 \"상승장\", 그렇지 않은 경우 \"하락장\" 문자열을 출력하라.\n",
    "\n",
    "\n",
    "|Key Name|Description|\n",
    "|------|---|\n",
    "|opeing_price|최근 24시간 내 시작 거래금액|\n",
    "|closing_price|최근 24시간 내 마지막 거래금액|\n",
    "|min_price|최근 24시간 내 최저 거래금액|\n",
    "|max_price|최근 24시간 내 최고 거래금액|"
   ]
  },
  {
   "cell_type": "code",
   "execution_count": 1,
   "metadata": {},
   "outputs": [
    {
     "name": "stdout",
     "output_type": "stream",
     "text": [
      "{'BTC': {'opening_price': '12290000', 'closing_price': '12867000', 'min_price': '12110000', 'max_price': '13451000', 'average_price': '12793872.7211', 'units_traded': '12453.02796044', 'volume_1day': '12453.02796044', 'volume_7day': '89842.51693023', 'buy_price': '12858000', 'sell_price': '12867000', '24H_fluctate': '577000', '24H_fluctate_rate': '4.69'}, 'ETH': {'opening_price': '267800', 'closing_price': '273400', 'min_price': '263800', 'max_price': '284900', 'average_price': '275870.5143', 'units_traded': '107239.60666222', 'volume_1day': '107239.60666222', 'volume_7day': '611682.369805810313271211', 'buy_price': '273400', 'sell_price': '273900', '24H_fluctate': '5600', '24H_fluctate_rate': '2.09'}, 'DASH': {'opening_price': '154400', 'closing_price': '162500', 'min_price': '149100', 'max_price': '170000', 'average_price': '160816.9433', 'units_traded': '1448084.62666835', 'volume_1day': '1448084.62666835', 'volume_7day': '11491770.59853245', 'buy_price': '162400', 'sell_price': '163200', '24H_fluctate': '8100', '24H_fluctate_rate': '5.24'}, 'LTC': {'opening_price': '106000', 'closing_price': '107100', 'min_price': '103500', 'max_price': '112200', 'average_price': '108614.1831', 'units_traded': '21831.11043896', 'volume_1day': '21831.11043896', 'volume_7day': '175986.452648', 'buy_price': '106900', 'sell_price': '107200', '24H_fluctate': '1100', '24H_fluctate_rate': '1.03'}, 'ETC': {'opening_price': '6620', 'closing_price': '6900', 'min_price': '6430', 'max_price': '7105', 'average_price': '6787.3499', 'units_traded': '109780.58560036', 'volume_1day': '109780.58560036', 'volume_7day': '804886.401500136696968718', 'buy_price': '6885', 'sell_price': '6910', '24H_fluctate': '280', '24H_fluctate_rate': '4.22'}, 'XRP': {'opening_price': '375', 'closing_price': '376', 'min_price': '369', 'max_price': '391', 'average_price': '379.3291', 'units_traded': '82571929.69621047', 'volume_1day': '82571929.69621047', 'volume_7day': '648948102.58921731', 'buy_price': '375', 'sell_price': '376', '24H_fluctate': '1', '24H_fluctate_rate': '0.26'}, 'BCH': {'opening_price': '344400', 'closing_price': '371000', 'min_price': '338000', 'max_price': '393600', 'average_price': '370326.6693', 'units_traded': '37340.05619766', 'volume_1day': '37340.05619766', 'volume_7day': '215726.39078977', 'buy_price': '370100', 'sell_price': '371000', '24H_fluctate': '26600', '24H_fluctate_rate': '7.72'}, 'XMR': {'opening_price': '93600', 'closing_price': '101500', 'min_price': '92450', 'max_price': '107700', 'average_price': '97121.6581', 'units_traded': '2987102.00177081', 'volume_1day': '2987102.00177081', 'volume_7day': '17505888.950307920282', 'buy_price': '101300', 'sell_price': '101700', '24H_fluctate': '7900', '24H_fluctate_rate': '8.44'}, 'ZEC': {'opening_price': '102600', 'closing_price': '116100', 'min_price': '96200', 'max_price': '118300', 'average_price': '106086.1663', 'units_traded': '2487.19623041', 'volume_1day': '2487.19623041', 'volume_7day': '15957.19945669', 'buy_price': '112200', 'sell_price': '116100', '24H_fluctate': '13500', '24H_fluctate_rate': '13.15'}, 'QTUM': {'opening_price': '3760', 'closing_price': '3944', 'min_price': '3691', 'max_price': '4152', 'average_price': '3936.2164', 'units_traded': '458283.01588686', 'volume_1day': '458283.01588686', 'volume_7day': '3661921.25399371', 'buy_price': '3933', 'sell_price': '3944', '24H_fluctate': '184', '24H_fluctate_rate': '4.89'}, 'BTG': {'opening_price': '29020', 'closing_price': '29610', 'min_price': '27800', 'max_price': '30800', 'average_price': '29586.3631', 'units_traded': '21658.47723421', 'volume_1day': '21658.47723421', 'volume_7day': '239004.69264282', 'buy_price': '29620', 'sell_price': '29880', '24H_fluctate': '590', '24H_fluctate_rate': '2.03'}, 'EOS': {'opening_price': '5125', 'closing_price': '5115', 'min_price': '4973', 'max_price': '5345', 'average_price': '5186.4017', 'units_traded': '2141132.26966061', 'volume_1day': '2141132.26966061', 'volume_7day': '17605348.53325631', 'buy_price': '5105', 'sell_price': '5115', '24H_fluctate': '-10', '24H_fluctate_rate': '-0.19'}, 'ICX': {'opening_price': '336', 'closing_price': '347', 'min_price': '332', 'max_price': '357', 'average_price': '343.5274', 'units_traded': '367884.79759203', 'volume_1day': '367884.79759203', 'volume_7day': '3711693.417763596870970941', 'buy_price': '341', 'sell_price': '345', '24H_fluctate': '11', '24H_fluctate_rate': '3.27'}, 'VET': {'opening_price': '7.25', 'closing_price': '7.56', 'min_price': '7.19', 'max_price': '7.78', 'average_price': '7.4403', 'units_traded': '14230056.05407113', 'volume_1day': '14230056.05407113', 'volume_7day': '137611262.958739665291439038', 'buy_price': '7.54', 'sell_price': '7.58', '24H_fluctate': '0.31', '24H_fluctate_rate': '4.27'}, 'TRX': {'opening_price': '28.5', 'closing_price': '29.2', 'min_price': '28.4', 'max_price': '30.3', 'average_price': '29.3938', 'units_traded': '70864613.51918942', 'volume_1day': '70864613.51918942', 'volume_7day': '570461843.91818948', 'buy_price': '29.1', 'sell_price': '29.2', '24H_fluctate': '0.7', '24H_fluctate_rate': '2.45'}, 'ELF': {'opening_price': '157', 'closing_price': '165', 'min_price': '154', 'max_price': '170', 'average_price': '161.7715', 'units_traded': '1037013.89562632', 'volume_1day': '1037013.89562632', 'volume_7day': '10296550.797307427790253715', 'buy_price': '163', 'sell_price': '165', '24H_fluctate': '8', '24H_fluctate_rate': '5.09'}, 'MITH': {'opening_price': '47.3', 'closing_price': '45.8', 'min_price': '45', 'max_price': '49.4', 'average_price': '46.9298', 'units_traded': '3447504.70780772', 'volume_1day': '3447504.70780772', 'volume_7day': '15874885.25112620334584781', 'buy_price': '45.8', 'sell_price': '46.3', '24H_fluctate': '-1.5', '24H_fluctate_rate': '-3.17'}, 'MCO': {'opening_price': '6025', 'closing_price': '6065', 'min_price': '5790', 'max_price': '6300', 'average_price': '6062.7545', 'units_traded': '43184.11784906', 'volume_1day': '43184.11784906', 'volume_7day': '256705.92116217', 'buy_price': '6060', 'sell_price': '6145', '24H_fluctate': '40', '24H_fluctate_rate': '0.66'}, 'OMG': {'opening_price': '1851', 'closing_price': '1845', 'min_price': '1774', 'max_price': '1960', 'average_price': '1880.6915', 'units_traded': '536724.84661199', 'volume_1day': '536724.84661199', 'volume_7day': '3244328.67459715027697645', 'buy_price': '1841', 'sell_price': '1856', '24H_fluctate': '-6', '24H_fluctate_rate': '-0.32'}, 'KNC': {'opening_price': '215', 'closing_price': '227', 'min_price': '213', 'max_price': '247', 'average_price': '225.7859', 'units_traded': '499503.19905415', 'volume_1day': '499503.19905415', 'volume_7day': '5411849.71909698425300172', 'buy_price': '226', 'sell_price': '229', '24H_fluctate': '12', '24H_fluctate_rate': '5.58'}, 'GNT': {'opening_price': '73.6', 'closing_price': '78', 'min_price': '73.3', 'max_price': '80', 'average_price': '76.4346', 'units_traded': '400675.22862826', 'volume_1day': '400675.22862826', 'volume_7day': '5921812.632560664217182283', 'buy_price': '76.5', 'sell_price': '78', '24H_fluctate': '4.4', '24H_fluctate_rate': '5.97'}, 'ZIL': {'opening_price': '16.5', 'closing_price': '16.9', 'min_price': '16.3', 'max_price': '17.5', 'average_price': '16.9868', 'units_traded': '7286105.56997006', 'volume_1day': '7286105.56997006', 'volume_7day': '61637822.343998164443', 'buy_price': '16.9', 'sell_price': '17.1', '24H_fluctate': '0.4', '24H_fluctate_rate': '2.42'}, 'ETHOS': {'opening_price': '148', 'closing_price': '155', 'min_price': '144', 'max_price': '160', 'average_price': '152.6317', 'units_traded': '2829802.40758568', 'volume_1day': '2829802.40758568', 'volume_7day': '45326276.89213607', 'buy_price': '153', 'sell_price': '155', '24H_fluctate': '7', '24H_fluctate_rate': '4.72'}, 'PAY': {'opening_price': '257', 'closing_price': '275', 'min_price': '255', 'max_price': '290', 'average_price': '272.6775', 'units_traded': '183265.69783513', 'volume_1day': '183265.69783513', 'volume_7day': '3308917.57521745684417128', 'buy_price': '273', 'sell_price': '275', '24H_fluctate': '18', '24H_fluctate_rate': '7.00'}, 'WAX': {'opening_price': '62.3', 'closing_price': '64.2', 'min_price': '61.9', 'max_price': '70', 'average_price': '64.4933', 'units_traded': '1854891.34833427', 'volume_1day': '1854891.34833427', 'volume_7day': '17533946.67888612', 'buy_price': '64.3', 'sell_price': '65.1', '24H_fluctate': '1.9', '24H_fluctate_rate': '3.04'}, 'POWR': {'opening_price': '98.1', 'closing_price': '99.8', 'min_price': '92', 'max_price': '103', 'average_price': '98.0409', 'units_traded': '1045129.64057166', 'volume_1day': '1045129.64057166', 'volume_7day': '7670456.38384943', 'buy_price': '97.7', 'sell_price': '99.8', '24H_fluctate': '1.7', '24H_fluctate_rate': '1.73'}, 'LRC': {'opening_price': '76.5', 'closing_price': '74.9', 'min_price': '70.1', 'max_price': '80.8', 'average_price': '73.2402', 'units_traded': '555954.63258488', 'volume_1day': '555954.63258488', 'volume_7day': '5592212.749529428809595789', 'buy_price': '72.1', 'sell_price': '74.9', '24H_fluctate': '-1.6', '24H_fluctate_rate': '-2.09'}, 'GTO': {'opening_price': '26.8', 'closing_price': '27.9', 'min_price': '26.3', 'max_price': '29.5', 'average_price': '27.7214', 'units_traded': '3001474.52787256', 'volume_1day': '3001474.52787256', 'volume_7day': '27951577.93923324', 'buy_price': '27.6', 'sell_price': '28.1', '24H_fluctate': '1.1', '24H_fluctate_rate': '4.10'}, 'STEEM': {'opening_price': '396', 'closing_price': '385', 'min_price': '375', 'max_price': '412', 'average_price': '396.2114', 'units_traded': '642761.2119111', 'volume_1day': '642761.2119111', 'volume_7day': '12043590.03367131', 'buy_price': '388', 'sell_price': '394', '24H_fluctate': '-11', '24H_fluctate_rate': '-2.77'}, 'STRAT': {'opening_price': '1370', 'closing_price': '1470', 'min_price': '1351', 'max_price': '1600', 'average_price': '1482.3972', 'units_traded': '255369.66834282', 'volume_1day': '255369.66834282', 'volume_7day': '1696512.41488857', 'buy_price': '1470', 'sell_price': '1475', '24H_fluctate': '100', '24H_fluctate_rate': '7.29'}, 'ZRX': {'opening_price': '263', 'closing_price': '306', 'min_price': '260', 'max_price': '328', 'average_price': '305.478', 'units_traded': '1617883.04085247', 'volume_1day': '1617883.04085247', 'volume_7day': '4612138.482289674745890539', 'buy_price': '303', 'sell_price': '306', '24H_fluctate': '43', '24H_fluctate_rate': '16.34'}, 'REP': {'opening_price': '18190', 'closing_price': '19620', 'min_price': '18190', 'max_price': '24700', 'average_price': '20654.5241', 'units_traded': '60313.58072207', 'volume_1day': '60313.58072207', 'volume_7day': '185233.108142127035504132', 'buy_price': '19620', 'sell_price': '19690', '24H_fluctate': '1430', '24H_fluctate_rate': '7.86'}, 'AE': {'opening_price': '514', 'closing_price': '528', 'min_price': '510', 'max_price': '570', 'average_price': '534.498', 'units_traded': '423315.98135147', 'volume_1day': '423315.98135147', 'volume_7day': '2467777.574817204196713173', 'buy_price': '525', 'sell_price': '528', '24H_fluctate': '14', '24H_fluctate_rate': '2.72'}, 'XEM': {'opening_price': '95', 'closing_price': '98.7', 'min_price': '92.7', 'max_price': '104', 'average_price': '98.6484', 'units_traded': '1113759.51627478', 'volume_1day': '1113759.51627478', 'volume_7day': '12200463.20093851', 'buy_price': '98.1', 'sell_price': '99.4', '24H_fluctate': '3.7', '24H_fluctate_rate': '3.89'}, 'SNT': {'opening_price': '24.2', 'closing_price': '24.9', 'min_price': '23.7', 'max_price': '26.1', 'average_price': '24.8454', 'units_traded': '4818550.3156606', 'volume_1day': '4818550.3156606', 'volume_7day': '53427434.80246821656894206', 'buy_price': '24.9', 'sell_price': '25.3', '24H_fluctate': '0.7', '24H_fluctate_rate': '2.89'}, 'ADA': {'opening_price': '92.3', 'closing_price': '97.8', 'min_price': '91.3', 'max_price': '103', 'average_price': '96.3853', 'units_traded': '6171878.02969911', 'volume_1day': '6171878.02969911', 'volume_7day': '63732124.40834253', 'buy_price': '97', 'sell_price': '97.8', '24H_fluctate': '5.5', '24H_fluctate_rate': '5.95'}, 'PPT': {'opening_price': '3272', 'closing_price': '3410', 'min_price': '3238', 'max_price': '3646', 'average_price': '3445.5275', 'units_traded': '117763.91916141', 'volume_1day': '117763.91916141', 'volume_7day': '1864680.17987921', 'buy_price': '3406', 'sell_price': '3410', '24H_fluctate': '138', '24H_fluctate_rate': '4.21'}, 'CTXC': {'opening_price': '488', 'closing_price': '485', 'min_price': '481', 'max_price': '514', 'average_price': '498.5159', 'units_traded': '403983.56753165', 'volume_1day': '403983.56753165', 'volume_7day': '8784036.184356528074863446', 'buy_price': '486', 'sell_price': '487', '24H_fluctate': '-3', '24H_fluctate_rate': '-0.61'}, 'CMT': {'opening_price': '63.1', 'closing_price': '64', 'min_price': '60.6', 'max_price': '67.7', 'average_price': '63.904', 'units_traded': '11856654.7540068', 'volume_1day': '11856654.7540068', 'volume_7day': '311577118.472030102049941136', 'buy_price': '64', 'sell_price': '64.1', '24H_fluctate': '0.9', '24H_fluctate_rate': '1.42'}, 'THETA': {'opening_price': '111', 'closing_price': '113', 'min_price': '110', 'max_price': '122', 'average_price': '114.738', 'units_traded': '753434.78486316', 'volume_1day': '753434.78486316', 'volume_7day': '5967820.658896666985828777', 'buy_price': '113', 'sell_price': '115', '24H_fluctate': '2', '24H_fluctate_rate': '1.80'}, 'WTC': {'opening_price': '2600', 'closing_price': '2617', 'min_price': '2551', 'max_price': '3105', 'average_price': '2755.2456', 'units_traded': '235068.68629594', 'volume_1day': '235068.68629594', 'volume_7day': '5298281.593847762054603445', 'buy_price': '2601', 'sell_price': '2626', '24H_fluctate': '17', '24H_fluctate_rate': '0.65'}, 'ITC': {'opening_price': '342', 'closing_price': '366', 'min_price': '323', 'max_price': '375', 'average_price': '356.0961', 'units_traded': '1542068.44443416', 'volume_1day': '1542068.44443416', 'volume_7day': '22403208.323599064799352276', 'buy_price': '365', 'sell_price': '368', '24H_fluctate': '24', '24H_fluctate_rate': '7.01'}, 'TRUE': {'opening_price': '538', 'closing_price': '541', 'min_price': '515', 'max_price': '598', 'average_price': '554.9', 'units_traded': '528769.89380368', 'volume_1day': '528769.89380368', 'volume_7day': '4485264.735044593020669752', 'buy_price': '539', 'sell_price': '544', '24H_fluctate': '3', '24H_fluctate_rate': '0.55'}, 'ABT': {'opening_price': '295', 'closing_price': '297', 'min_price': '284', 'max_price': '318', 'average_price': '301.8637', 'units_traded': '1464613.31611994', 'volume_1day': '1464613.31611994', 'volume_7day': '10456835.329498205152496239', 'buy_price': '297', 'sell_price': '300', '24H_fluctate': '2', '24H_fluctate_rate': '0.67'}, 'RNT': {'opening_price': '41', 'closing_price': '42.6', 'min_price': '40.5', 'max_price': '43.9', 'average_price': '41.8176', 'units_traded': '2083386.86635584', 'volume_1day': '2083386.86635584', 'volume_7day': '29772661.247298959215133828', 'buy_price': '42.3', 'sell_price': '42.6', '24H_fluctate': '1.6', '24H_fluctate_rate': '3.90'}, 'PLY': {'opening_price': '13.6', 'closing_price': '13.5', 'min_price': '13.3', 'max_price': '14.4', 'average_price': '13.7505', 'units_traded': '37114093.34989597', 'volume_1day': '37114093.34989597', 'volume_7day': '306407910.195506902', 'buy_price': '13.4', 'sell_price': '13.5', '24H_fluctate': '-0.1', '24H_fluctate_rate': '-0.73'}, 'WAVES': {'opening_price': '2096', 'closing_price': '2616', 'min_price': '2075', 'max_price': '3250', 'average_price': '2738.8265', 'units_traded': '809255.48250782', 'volume_1day': '809255.48250782', 'volume_7day': '1418918.81839412', 'buy_price': '2619', 'sell_price': '2631', '24H_fluctate': '520', '24H_fluctate_rate': '24.80'}, 'LINK': {'opening_price': '4518', 'closing_price': '4599', 'min_price': '4434', 'max_price': '4940', 'average_price': '4680.6044', 'units_traded': '359781.63139819', 'volume_1day': '359781.63139819', 'volume_7day': '5096462.948918933473057873', 'buy_price': '4561', 'sell_price': '4599', '24H_fluctate': '81', '24H_fluctate_rate': '1.79'}, 'ENJ': {'opening_price': '117', 'closing_price': '120', 'min_price': '115', 'max_price': '126', 'average_price': '120.3361', 'units_traded': '14579091.13674148', 'volume_1day': '14579091.13674148', 'volume_7day': '69367873.026652741951775443', 'buy_price': '119', 'sell_price': '120', '24H_fluctate': '3', '24H_fluctate_rate': '2.56'}, 'PST': {'opening_price': '131', 'closing_price': '147', 'min_price': '126', 'max_price': '157', 'average_price': '145.381', 'units_traded': '5243507.54432081', 'volume_1day': '5243507.54432081', 'volume_7day': '21531510.179264452474168705', 'buy_price': '146', 'sell_price': '147', '24H_fluctate': '16', '24H_fluctate_rate': '12.21'}, 'SALT': {'opening_price': '209', 'closing_price': '212', 'min_price': '203', 'max_price': '228', 'average_price': '212.1859', 'units_traded': '399149.05913', 'volume_1day': '399149.05913', 'volume_7day': '2688250.38915264', 'buy_price': '211', 'sell_price': '212', '24H_fluctate': '3', '24H_fluctate_rate': '1.43'}, 'RDN': {'opening_price': '919', 'closing_price': '1000', 'min_price': '876', 'max_price': '1116', 'average_price': '996.952', 'units_traded': '349957.17072998', 'volume_1day': '349957.17072998', 'volume_7day': '1964443.335279092717018458', 'buy_price': '1000', 'sell_price': '1009', '24H_fluctate': '81', '24H_fluctate_rate': '8.81'}, 'LOOM': {'opening_price': '87', 'closing_price': '88.3', 'min_price': '81.9', 'max_price': '91.5', 'average_price': '87.3402', 'units_traded': '488091.28578112', 'volume_1day': '488091.28578112', 'volume_7day': '4382846.91382006979771485', 'buy_price': '88.2', 'sell_price': '88.3', '24H_fluctate': '1.3', '24H_fluctate_rate': '1.49'}, 'PIVX': {'opening_price': '1723', 'closing_price': '1930', 'min_price': '1723', 'max_price': '2228', 'average_price': '1979.1076', 'units_traded': '77700.3991423', 'volume_1day': '77700.3991423', 'volume_7day': '651435.62770925', 'buy_price': '1940', 'sell_price': '1993', '24H_fluctate': '207', '24H_fluctate_rate': '12.01'}, 'INS': {'opening_price': '442', 'closing_price': '466', 'min_price': '426', 'max_price': '488', 'average_price': '456.1693', 'units_traded': '344396.16441388', 'volume_1day': '344396.16441388', 'volume_7day': '8534035.6918034909', 'buy_price': '453', 'sell_price': '465', '24H_fluctate': '24', '24H_fluctate_rate': '5.42'}, 'BCD': {'opening_price': '1925', 'closing_price': '2218', 'min_price': '1872', 'max_price': '2367', 'average_price': '2183.3955', 'units_traded': '830669.8759138', 'volume_1day': '830669.8759138', 'volume_7day': '1594402.38769003', 'buy_price': '2210', 'sell_price': '2218', '24H_fluctate': '293', '24H_fluctate_rate': '15.22'}, 'BZNT': {'opening_price': '22.6', 'closing_price': '22.9', 'min_price': '22.2', 'max_price': '23.4', 'average_price': '22.8003', 'units_traded': '3918037.51795373', 'volume_1day': '3918037.51795373', 'volume_7day': '86494386.911054381636845514', 'buy_price': '22.7', 'sell_price': '22.9', '24H_fluctate': '0.3', '24H_fluctate_rate': '1.32'}, 'XLM': {'opening_price': '111', 'closing_price': '113', 'min_price': '107', 'max_price': '117', 'average_price': '112.4097', 'units_traded': '2725565.80539351', 'volume_1day': '2725565.80539351', 'volume_7day': '23318722.48095933', 'buy_price': '111', 'sell_price': '113', '24H_fluctate': '2', '24H_fluctate_rate': '1.80'}, 'OCN': {'opening_price': '3.13', 'closing_price': '3.22', 'min_price': '3.09', 'max_price': '3.46', 'average_price': '3.2605', 'units_traded': '12609596.32527508', 'volume_1day': '12609596.32527508', 'volume_7day': '147785257.519534292031302212', 'buy_price': '3.22', 'sell_price': '3.26', '24H_fluctate': '0.09', '24H_fluctate_rate': '2.87'}, 'BSV': {'opening_price': '143000', 'closing_price': '157500', 'min_price': '139100', 'max_price': '163600', 'average_price': '151781.8344', 'units_traded': '75452.08906158', 'volume_1day': '75452.08906158', 'volume_7day': '298114.94422238', 'buy_price': '157000', 'sell_price': '157500', '24H_fluctate': '14500', '24H_fluctate_rate': '10.13'}, 'TMTG': {'opening_price': '2.16', 'closing_price': '2.19', 'min_price': '2.07', 'max_price': '2.27', 'average_price': '2.1859', 'units_traded': '48719693.86064638', 'volume_1day': '48719693.86064638', 'volume_7day': '284645907.165542867958841878', 'buy_price': '2.18', 'sell_price': '2.19', '24H_fluctate': '0.03', '24H_fluctate_rate': '1.38'}, 'BAT': {'opening_price': '281', 'closing_price': '281', 'min_price': '276', 'max_price': '305', 'average_price': '290.6804', 'units_traded': '676368.53212239', 'volume_1day': '676368.53212239', 'volume_7day': '8790346.838217355292766026', 'buy_price': '282', 'sell_price': '284', '24H_fluctate': '0', '24H_fluctate_rate': '0.00'}, 'WET': {'opening_price': '15.4', 'closing_price': '15.1', 'min_price': '14.8', 'max_price': '15.8', 'average_price': '15.2711', 'units_traded': '11251960.36809116', 'volume_1day': '11251960.36809116', 'volume_7day': '128614141.662415396604151079', 'buy_price': '15.1', 'sell_price': '15.3', '24H_fluctate': '-0.3', '24H_fluctate_rate': '-1.94'}, 'XVG': {'opening_price': '14.5', 'closing_price': '15', 'min_price': '13.9', 'max_price': '15.7', 'average_price': '14.7194', 'units_traded': '1621965.92072629', 'volume_1day': '1621965.92072629', 'volume_7day': '21617518.40048351', 'buy_price': '14.7', 'sell_price': '15', '24H_fluctate': '0.5', '24H_fluctate_rate': '3.44'}, 'IOST': {'opening_price': '11.7', 'closing_price': '12.1', 'min_price': '11', 'max_price': '12.7', 'average_price': '11.9108', 'units_traded': '3351017.5125255', 'volume_1day': '3351017.5125255', 'volume_7day': '39943613.29635144034281569', 'buy_price': '12', 'sell_price': '12.2', '24H_fluctate': '0.4', '24H_fluctate_rate': '3.41'}, 'POLY': {'opening_price': '63.7', 'closing_price': '71', 'min_price': '63', 'max_price': '88', 'average_price': '75.5584', 'units_traded': '16154099.13137614', 'volume_1day': '16154099.13137614', 'volume_7day': '40600934.486001743308759825', 'buy_price': '70.2', 'sell_price': '70.9', '24H_fluctate': '7.3', '24H_fluctate_rate': '11.45'}, 'HC': {'opening_price': '3910', 'closing_price': '4007', 'min_price': '3835', 'max_price': '4500', 'average_price': '4185.1403', 'units_traded': '314420.95585185', 'volume_1day': '314420.95585185', 'volume_7day': '4505501.84677643', 'buy_price': '4015', 'sell_price': '4063', '24H_fluctate': '97', '24H_fluctate_rate': '2.48'}, 'ROM': {'opening_price': '0.05', 'closing_price': '0.04', 'min_price': '0.04', 'max_price': '0.05', 'average_price': '0.0446', 'units_traded': '1205337052.67148', 'volume_1day': '1205337052.67148', 'volume_7day': '19446210289.175240000000000002', 'buy_price': '0.04', 'sell_price': '0.05', '24H_fluctate': '-0.01', '24H_fluctate_rate': '-20.00'}, 'AMO': {'opening_price': '0.64', 'closing_price': '0.65', 'min_price': '0.61', 'max_price': '0.66', 'average_price': '0.6409', 'units_traded': '318113412.91637477', 'volume_1day': '318113412.91637477', 'volume_7day': '3299334283.364824469475093072', 'buy_price': '0.64', 'sell_price': '0.65', '24H_fluctate': '0.01', '24H_fluctate_rate': '1.56'}, 'ETZ': {'opening_price': '294', 'closing_price': '300', 'min_price': '286', 'max_price': '318', 'average_price': '303.1434', 'units_traded': '1257228.1891824', 'volume_1day': '1257228.1891824', 'volume_7day': '18454841.454023402404599144', 'buy_price': '297', 'sell_price': '300', '24H_fluctate': '6', '24H_fluctate_rate': '2.04'}, 'ARN': {'opening_price': '530', 'closing_price': '536', 'min_price': '516', 'max_price': '586', 'average_price': '545.9408', 'units_traded': '295016.57452498', 'volume_1day': '295016.57452498', 'volume_7day': '1699456.90093984', 'buy_price': '536', 'sell_price': '537', '24H_fluctate': '6', '24H_fluctate_rate': '1.13'}, 'APIS': {'opening_price': '1.68', 'closing_price': '1.71', 'min_price': '1.66', 'max_price': '1.9', 'average_price': '1.7364', 'units_traded': '65541054.53689579', 'volume_1day': '65541054.53689579', 'volume_7day': '297934955.786810022513315604', 'buy_price': '1.7', 'sell_price': '1.72', '24H_fluctate': '0.03', '24H_fluctate_rate': '1.78'}, 'MTL': {'opening_price': '1933', 'closing_price': '2113', 'min_price': '1877', 'max_price': '2313', 'average_price': '2073.4506', 'units_traded': '138512.67022698', 'volume_1day': '138512.67022698', 'volume_7day': '638091.54421716', 'buy_price': '2089', 'sell_price': '2110', '24H_fluctate': '180', '24H_fluctate_rate': '9.31'}, 'DACC': {'opening_price': '0.17', 'closing_price': '0.17', 'min_price': '0.15', 'max_price': '0.17', 'average_price': '0.1648', 'units_traded': '403964753.65345881', 'volume_1day': '403964753.65345881', 'volume_7day': '2761268430.27451084', 'buy_price': '0.16', 'sell_price': '0.17', '24H_fluctate': '0', '24H_fluctate_rate': '0.00'}, 'DAC': {'opening_price': '5.7', 'closing_price': '5.69', 'min_price': '5.53', 'max_price': '6.04', 'average_price': '5.7941', 'units_traded': '24889669.08504134', 'volume_1day': '24889669.08504134', 'volume_7day': '808227273.352607000124730197', 'buy_price': '5.62', 'sell_price': '5.69', '24H_fluctate': '-0', '24H_fluctate_rate': '-0.17'}, 'BHP': {'opening_price': '1729', 'closing_price': '1738', 'min_price': '1680', 'max_price': '1871', 'average_price': '1765.8347', 'units_traded': '712430.22138545', 'volume_1day': '712430.22138545', 'volume_7day': '1448829.08917654', 'buy_price': '1730', 'sell_price': '1732', '24H_fluctate': '9', '24H_fluctate_rate': '0.52'}, 'BTT': {'opening_price': '1.34', 'closing_price': '1.37', 'min_price': '1.21', 'max_price': '1.53', 'average_price': '1.3636', 'units_traded': '361001672.31989888', 'volume_1day': '361001672.31989888', 'volume_7day': '1522386108.91407325', 'buy_price': '1.36', 'sell_price': '1.37', '24H_fluctate': '0.03', '24H_fluctate_rate': '2.23'}, 'HDAC': {'opening_price': '30.1', 'closing_price': '31', 'min_price': '28.8', 'max_price': '32.5', 'average_price': '30.6039', 'units_traded': '3156187.58536981', 'volume_1day': '3156187.58536981', 'volume_7day': '34286416.73180534', 'buy_price': '30.7', 'sell_price': '31.5', '24H_fluctate': '0.9', '24H_fluctate_rate': '2.99'}, 'NPXS': {'opening_price': '0.72', 'closing_price': '0.77', 'min_price': '0.71', 'max_price': '0.82', 'average_price': '0.7761', 'units_traded': '534925796.5123872', 'volume_1day': '534925796.5123872', 'volume_7day': '3230580714.227932208350640193', 'buy_price': '0.76', 'sell_price': '0.78', '24H_fluctate': '0.05', '24H_fluctate_rate': '6.94'}, 'AUTO': {'opening_price': '1.68', 'closing_price': '1.68', 'min_price': '1.62', 'max_price': '1.73', 'average_price': '1.6693', 'units_traded': '25229108.30335438', 'volume_1day': '25229108.30335438', 'volume_7day': '314661924.087213603262875436', 'buy_price': '1.66', 'sell_price': '1.68', '24H_fluctate': '0', '24H_fluctate_rate': '0.00'}, 'GXC': {'opening_price': '1829', 'closing_price': '1901', 'min_price': '1783', 'max_price': '2055', 'average_price': '1927.2615', 'units_traded': '139383.25874903', 'volume_1day': '139383.25874903', 'volume_7day': '1681153.90990244', 'buy_price': '1871', 'sell_price': '1898', '24H_fluctate': '72', '24H_fluctate_rate': '3.93'}, 'ORBS': {'opening_price': '29.3', 'closing_price': '29.3', 'min_price': '28.6', 'max_price': '31', 'average_price': '29.7141', 'units_traded': '17482273.8208294', 'volume_1day': '17482273.8208294', 'volume_7day': '130570857.796661028319004324', 'buy_price': '29.4', 'sell_price': '29.5', '24H_fluctate': '0', '24H_fluctate_rate': '0.00'}, 'VALOR': {'opening_price': '2475', 'closing_price': '2553', 'min_price': '2409', 'max_price': '2696', 'average_price': '2564.1746', 'units_traded': '104141.2253675', 'volume_1day': '104141.2253675', 'volume_7day': '1141258.959193602869914978', 'buy_price': '2553', 'sell_price': '2582', '24H_fluctate': '78', '24H_fluctate_rate': '3.15'}, 'CON': {'opening_price': '13.9', 'closing_price': '14', 'min_price': '13.6', 'max_price': '14.5', 'average_price': '14.0556', 'units_traded': '146362211.23965804', 'volume_1day': '146362211.23965804', 'volume_7day': '1187709932.344118216257690364', 'buy_price': '13.8', 'sell_price': '13.9', '24H_fluctate': '0.1', '24H_fluctate_rate': '0.71'}, 'ANKR': {'opening_price': '10.5', 'closing_price': '10.7', 'min_price': '10.1', 'max_price': '11.1', 'average_price': '10.5833', 'units_traded': '90642126.01962948', 'volume_1day': '90642126.01962948', 'volume_7day': '688405037.476025913155368309', 'buy_price': '10.7', 'sell_price': '10.8', '24H_fluctate': '0.2', '24H_fluctate_rate': '1.90'}, 'MIX': {'opening_price': '68.6', 'closing_price': '66.5', 'min_price': '64.3', 'max_price': '69.6', 'average_price': '67.1363', 'units_traded': '2733154.69626884', 'volume_1day': '2733154.69626884', 'volume_7day': '40265468.879543152128637568', 'buy_price': '66.9', 'sell_price': '67.4', '24H_fluctate': '-2.1', '24H_fluctate_rate': '-3.06'}, 'HYC': {'opening_price': '9.99', 'closing_price': '9.93', 'min_price': '9.73', 'max_price': '10.4', 'average_price': '10.0068', 'units_traded': '61114135.84618012', 'volume_1day': '61114135.84618012', 'volume_7day': '1399746037.656357185', 'buy_price': '9.93', 'sell_price': '9.99', '24H_fluctate': '-0.06', '24H_fluctate_rate': '-0.60'}, 'LBA': {'opening_price': '30.7', 'closing_price': '30.2', 'min_price': '29.9', 'max_price': '32.3', 'average_price': '31.1521', 'units_traded': '9377557.81049058', 'volume_1day': '9377557.81049058', 'volume_7day': '96865945.84283059765145354', 'buy_price': '30.1', 'sell_price': '30.2', '24H_fluctate': '-0.5', '24H_fluctate_rate': '-1.62'}, 'date': '1563257046672'}\n"
     ]
    }
   ],
   "source": [
    "import requests\n",
    "url = \"https://api.bithumb.com/public/ticker/all\"\n",
    "data = requests.get(url).json()['data']\n",
    "print(data)"
   ]
  },
  {
   "cell_type": "code",
   "execution_count": 2,
   "metadata": {},
   "outputs": [
    {
     "name": "stdout",
     "output_type": "stream",
     "text": [
      "BTC 상승장\n",
      "ETH 상승장\n",
      "DASH 상승장\n",
      "LTC 상승장\n",
      "ETC 상승장\n",
      "XRP 상승장\n",
      "BCH 상승장\n",
      "XMR 상승장\n",
      "ZEC 상승장\n",
      "QTUM 상승장\n",
      "BTG 상승장\n",
      "EOS 상승장\n",
      "ICX 상승장\n",
      "VET 상승장\n",
      "TRX 상승장\n",
      "ELF 상승장\n",
      "MITH 상승장\n",
      "MCO 상승장\n",
      "OMG 상승장\n",
      "KNC 상승장\n",
      "GNT 상승장\n",
      "ZIL 상승장\n",
      "ETHOS 상승장\n",
      "PAY 상승장\n",
      "WAX 상승장\n",
      "POWR 상승장\n",
      "LRC 상승장\n",
      "GTO 상승장\n",
      "STEEM 상승장\n",
      "STRAT 상승장\n",
      "ZRX 상승장\n",
      "REP 하락장\n",
      "AE 상승장\n",
      "XEM 상승장\n",
      "SNT 상승장\n",
      "ADA 상승장\n",
      "PPT 상승장\n",
      "CTXC 상승장\n",
      "CMT 상승장\n",
      "THETA 상승장\n",
      "WTC 상승장\n",
      "ITC 상승장\n",
      "TRUE 상승장\n",
      "ABT 상승장\n",
      "RNT 상승장\n",
      "PLY 상승장\n",
      "WAVES 상승장\n",
      "LINK 상승장\n",
      "ENJ 상승장\n",
      "PST 상승장\n",
      "SALT 상승장\n",
      "RDN 상승장\n",
      "LOOM 상승장\n",
      "PIVX 하락장\n",
      "INS 상승장\n",
      "BCD 상승장\n",
      "BZNT 상승장\n",
      "XLM 상승장\n",
      "OCN 상승장\n",
      "BSV 상승장\n",
      "TMTG 상승장\n",
      "BAT 상승장\n",
      "WET 상승장\n",
      "XVG 상승장\n",
      "IOST 상승장\n",
      "POLY 상승장\n",
      "HC 상승장\n",
      "ROM 상승장\n",
      "AMO 상승장\n",
      "ETZ 상승장\n",
      "ARN 상승장\n",
      "APIS 상승장\n",
      "MTL 상승장\n",
      "DACC 상승장\n",
      "DAC 상승장\n",
      "BHP 상승장\n",
      "BTT 상승장\n",
      "HDAC 상승장\n",
      "NPXS 상승장\n",
      "AUTO 상승장\n",
      "GXC 상승장\n",
      "ORBS 상승장\n",
      "VALOR 상승장\n",
      "CON 상승장\n",
      "ANKR 상승장\n",
      "MIX 상승장\n",
      "HYC 상승장\n",
      "LBA 상승장\n"
     ]
    }
   ],
   "source": [
    "# 아래에 코드를 작성하세요.\n",
    "for key, value in data.items():\n",
    "    try:\n",
    "        if float(data[key]['opening_price']) + (float(data[key]['max_price']) - float(data[key]['min_price'])) > float(data[key]['max_price']):\n",
    "            print(f'{key} 상승장')\n",
    "        else:\n",
    "            print(f'{key} 하락장')\n",
    "    except TypeError:\n",
    "        continue"
   ]
  },
  {
   "cell_type": "code",
   "execution_count": 3,
   "metadata": {},
   "outputs": [
    {
     "name": "stdout",
     "output_type": "stream",
     "text": [
      "상승장\n",
      "상승장\n",
      "상승장\n",
      "상승장\n",
      "상승장\n",
      "상승장\n",
      "상승장\n",
      "상승장\n",
      "상승장\n",
      "상승장\n",
      "상승장\n",
      "상승장\n",
      "상승장\n",
      "상승장\n",
      "상승장\n",
      "상승장\n",
      "상승장\n",
      "상승장\n",
      "상승장\n",
      "상승장\n",
      "상승장\n",
      "상승장\n",
      "상승장\n",
      "상승장\n",
      "상승장\n",
      "상승장\n",
      "상승장\n",
      "상승장\n",
      "상승장\n",
      "상승장\n",
      "상승장\n",
      "하락장\n",
      "상승장\n",
      "상승장\n",
      "상승장\n",
      "상승장\n",
      "상승장\n",
      "상승장\n",
      "상승장\n",
      "상승장\n",
      "상승장\n",
      "상승장\n",
      "상승장\n",
      "상승장\n",
      "상승장\n",
      "상승장\n",
      "상승장\n",
      "상승장\n",
      "상승장\n",
      "상승장\n",
      "상승장\n",
      "상승장\n",
      "상승장\n",
      "하락장\n",
      "상승장\n",
      "상승장\n",
      "상승장\n",
      "상승장\n",
      "상승장\n",
      "상승장\n",
      "상승장\n",
      "상승장\n",
      "상승장\n",
      "상승장\n",
      "상승장\n",
      "상승장\n",
      "상승장\n",
      "상승장\n",
      "상승장\n",
      "상승장\n",
      "상승장\n",
      "상승장\n",
      "상승장\n",
      "상승장\n",
      "상승장\n",
      "상승장\n",
      "상승장\n",
      "상승장\n",
      "상승장\n",
      "상승장\n",
      "상승장\n",
      "상승장\n",
      "상승장\n",
      "상승장\n",
      "상승장\n",
      "상승장\n",
      "상승장\n",
      "상승장\n"
     ]
    }
   ],
   "source": [
    "for coin, coin_data in data.items():\n",
    "    if type(coin_data) == type(dict()):\n",
    "        if float(coin_data['opening_price']) - float(coin_data['min_price']) > 0:\n",
    "            print('상승장')\n",
    "        else:\n",
    "            print('하락장')"
   ]
  },
  {
   "cell_type": "markdown",
   "metadata": {},
   "source": [
    "# 평균점수\n",
    "> 다음 딕셔너리에서 평균 점수를 출력하라\n"
   ]
  },
  {
   "cell_type": "code",
   "execution_count": 4,
   "metadata": {},
   "outputs": [],
   "source": [
    "student = {'python':80, 'algorithm':78, 'django':95, 'flask':80}"
   ]
  },
  {
   "cell_type": "code",
   "execution_count": 5,
   "metadata": {},
   "outputs": [
    {
     "name": "stdout",
     "output_type": "stream",
     "text": [
      "평균 : 83.25\n"
     ]
    }
   ],
   "source": [
    "sum_num = 0\n",
    "for score in student.values():\n",
    "    sum_num += score\n",
    "print('평균 :', sum_num/len(student))"
   ]
  },
  {
   "cell_type": "code",
   "execution_count": 12,
   "metadata": {},
   "outputs": [
    {
     "data": {
      "text/plain": [
       "83.25"
      ]
     },
     "execution_count": 12,
     "metadata": {},
     "output_type": "execute_result"
    }
   ],
   "source": [
    "sum(student.values()) / len(student)"
   ]
  },
  {
   "cell_type": "markdown",
   "metadata": {},
   "source": [
    "# 혈액형\n",
    "> 학생들의 혈액형(A,B,O,AB)에 대한 데이터가 리스트에 들어있다. 각 혈액형이 몇명인지 딕셔너리를 만들어 출력하라"
   ]
  },
  {
   "cell_type": "code",
   "execution_count": 7,
   "metadata": {},
   "outputs": [],
   "source": [
    "blood = ['A','A','B','O','A','B','A','AB','AB','O','A','O','AB','O']"
   ]
  },
  {
   "cell_type": "code",
   "execution_count": 13,
   "metadata": {},
   "outputs": [
    {
     "name": "stdout",
     "output_type": "stream",
     "text": [
      "{'A': 5, 'B': 2, 'AB': 3, 'O': 4}\n"
     ]
    }
   ],
   "source": [
    "blood_dic = {'A': 0,'B':0,'AB':0,'O':0}\n",
    "\n",
    "for blood_type in blood:\n",
    "    blood_dic[blood_type] += 1\n",
    "\n",
    "print(blood_dic)"
   ]
  },
  {
   "cell_type": "code",
   "execution_count": 15,
   "metadata": {},
   "outputs": [
    {
     "name": "stdout",
     "output_type": "stream",
     "text": [
      "{'A': 5, 'B': 2, 'AB': 3, 'O': 4}\n"
     ]
    }
   ],
   "source": [
    "blood_dic={}\n",
    "blood_dic['A'] = blood.count('A')\n",
    "blood_dic['B'] = blood.count('B')\n",
    "blood_dic['AB'] = blood.count('AB')\n",
    "blood_dic['O'] = blood.count('O')\n",
    "\n",
    "print(blood_dic)"
   ]
  },
  {
   "cell_type": "code",
   "execution_count": 18,
   "metadata": {},
   "outputs": [
    {
     "name": "stdout",
     "output_type": "stream",
     "text": [
      "{'A': 5, 'B': 2, 'O': 4, 'AB': 3}\n"
     ]
    }
   ],
   "source": [
    "# 표준이 되는 코드\n",
    "\n",
    "blood_dic={}\n",
    "for blood_type in blood:\n",
    "    if blood_type not in blood_dic.keys():\n",
    "        blood_dic[blood_type] = 1\n",
    "    else:\n",
    "        blood_dic[blood_type] += 1\n",
    "print(blood_dic)"
   ]
  },
  {
   "cell_type": "code",
   "execution_count": 19,
   "metadata": {},
   "outputs": [
    {
     "data": {
      "text/plain": [
       "{'AB': 3, 'B': 2, 'O': 4, 'A': 5}"
      ]
     },
     "execution_count": 19,
     "metadata": {},
     "output_type": "execute_result"
    }
   ],
   "source": [
    "{blood_type : blood.count(blood_type) for blood_type in set(blood)}"
   ]
  },
  {
   "cell_type": "markdown",
   "metadata": {},
   "source": [
    "# UBD\n",
    "> movies는 영화제목이 key로 누적관객수가 value인 딕셔너리이다. \n",
    ">\n",
    "> 자전차왕 엄복동의 누적관객수는 172212명이고 172212명을 1UBD라고 할때 80UBD를 넘지 못하는 영화를 출력하라."
   ]
  },
  {
   "cell_type": "code",
   "execution_count": 9,
   "metadata": {},
   "outputs": [],
   "source": [
    "movies = {\n",
    "    \"7번방의선물\":12811206,\n",
    "    \"괴물\":13019740,\n",
    "    \"국제시장\":14257115,\n",
    "    \"극한직업\":16261018,\n",
    "    \"도둑들\":12983330,\n",
    "    \"명량\":17613682,\n",
    "    \"베테랑\":13414009,\n",
    "    \"신과함께-죄와벌\":14410754,\n",
    "    \"아바타\":13624328,\n",
    "    \"어벤져스:엔드게임\":13901423,\n",
    "}   "
   ]
  },
  {
   "cell_type": "code",
   "execution_count": 10,
   "metadata": {},
   "outputs": [
    {
     "name": "stdout",
     "output_type": "stream",
     "text": [
      "7번방의선물\n",
      "괴물\n",
      "도둑들\n",
      "베테랑\n",
      "아바타\n"
     ]
    }
   ],
   "source": [
    "UBD = 172212\n",
    "for movie, value in movies.items():\n",
    "    if value < 80*UBD :\n",
    "        print(movie)"
   ]
  }
 ],
 "metadata": {
  "kernelspec": {
   "display_name": "Python 3",
   "language": "python",
   "name": "python3"
  },
  "language_info": {
   "codemirror_mode": {
    "name": "ipython",
    "version": 3
   },
   "file_extension": ".py",
   "mimetype": "text/x-python",
   "name": "python",
   "nbconvert_exporter": "python",
   "pygments_lexer": "ipython3",
   "version": "3.7.3"
  },
  "toc": {
   "base_numbering": 1,
   "nav_menu": {},
   "number_sections": true,
   "sideBar": true,
   "skip_h1_title": false,
   "title_cell": "Table of Contents",
   "title_sidebar": "Contents",
   "toc_cell": false,
   "toc_position": {},
   "toc_section_display": true,
   "toc_window_display": false
  }
 },
 "nbformat": 4,
 "nbformat_minor": 2
}
